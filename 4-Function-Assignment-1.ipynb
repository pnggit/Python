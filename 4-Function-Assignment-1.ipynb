{
 "cells": [
  {
   "cell_type": "code",
   "execution_count": 1,
   "id": "6701f4a5",
   "metadata": {},
   "outputs": [],
   "source": [
    "class SubfieldsInAI:\n",
    "    def Subfields():\n",
    "        aiFields=[\"Machine Learning\",\"Neural Networks\",\"Vision\",\"Robotics\",\"Speech Processing\",\"Natural Language Processing\"]\n",
    "        print(\"Sub-fields in AI are:\")\n",
    "        for aiField in aiFields:\n",
    "            print(aiField)"
   ]
  },
  {
   "cell_type": "code",
   "execution_count": 2,
   "id": "3e57a31d",
   "metadata": {},
   "outputs": [
    {
     "name": "stdout",
     "output_type": "stream",
     "text": [
      "Sub-fields in AI are:\n",
      "Machine Learning\n",
      "Neural Networks\n",
      "Vision\n",
      "Robotics\n",
      "Speech Processing\n",
      "Natural Language Processing\n"
     ]
    }
   ],
   "source": [
    "SubfieldsInAI.Subfields()"
   ]
  },
  {
   "cell_type": "code",
   "execution_count": 3,
   "id": "2d6b7075",
   "metadata": {},
   "outputs": [],
   "source": [
    "class OddEven:\n",
    "    def OddEven():\n",
    "        number=int(input(\"Enter a number:\"))\n",
    "        if(number%2==0):\n",
    "            print(number,\" is Even number\")\n",
    "        else:\n",
    "            print(number,\" is Odd number\")"
   ]
  },
  {
   "cell_type": "code",
   "execution_count": 4,
   "id": "6621d086",
   "metadata": {},
   "outputs": [
    {
     "name": "stdout",
     "output_type": "stream",
     "text": [
      "Enter a number:52452\n",
      "52452  is Even number\n"
     ]
    }
   ],
   "source": [
    "OddEven.OddEven()"
   ]
  },
  {
   "cell_type": "code",
   "execution_count": 5,
   "id": "ecb155eb",
   "metadata": {},
   "outputs": [],
   "source": [
    "class ElegiblityForMarriage:\n",
    "    def Eligible():\n",
    "        gender=input(\"Your Gender:\")\n",
    "        age=int(input(\"Your Age:\"))\n",
    "        if(age<21):\n",
    "            print(\"NOT ELIGIBLE\")\n",
    "        else:\n",
    "            print(\"Eligible\")"
   ]
  },
  {
   "cell_type": "code",
   "execution_count": 6,
   "id": "5060d34b",
   "metadata": {},
   "outputs": [
    {
     "name": "stdout",
     "output_type": "stream",
     "text": [
      "Your Gender:MALE\n",
      "Your Age:20\n",
      "NOT ELIGIBLE\n"
     ]
    }
   ],
   "source": [
    "ElegiblityForMarriage.Eligible()"
   ]
  },
  {
   "cell_type": "markdown",
   "id": "b2e29cca",
   "metadata": {},
   "source": [
    "# class FindPercent:\n",
    "    def percentage():\n",
    "        average=0\n",
    "        total=0\n",
    "        for number in range(5):\n",
    "            subject=int(input(\"Subject\"+str(number+1)+\"=\"))\n",
    "            total=total+subject\n",
    "            average=total/(number+1)\n",
    "        print(\"Total :\",total)\n",
    "        print(\"Percentage :\",average)"
   ]
  },
  {
   "cell_type": "code",
   "execution_count": 7,
   "id": "745e4f57",
   "metadata": {},
   "outputs": [],
   "source": [
    "class FindPercent:\n",
    "    def percentage():\n",
    "        average=0\n",
    "        total=0\n",
    "        for number in range(5):\n",
    "            subject=int(input(\"Subject\"+str(number+1)+\"=\"))\n",
    "            total=total+subject\n",
    "            average=total/(number+1)\n",
    "        print(\"Total :\",total)\n",
    "        print(\"Percentage :\",average)"
   ]
  },
  {
   "cell_type": "code",
   "execution_count": 8,
   "id": "b4fcafe8",
   "metadata": {},
   "outputs": [
    {
     "name": "stdout",
     "output_type": "stream",
     "text": [
      "Subject1=98\n",
      "Subject2=87\n",
      "Subject3=95\n",
      "Subject4=95\n",
      "Subject5=93\n",
      "Total : 468\n",
      "Percentage : 93.6\n"
     ]
    }
   ],
   "source": [
    "FindPercent.percentage()"
   ]
  },
  {
   "cell_type": "code",
   "execution_count": 11,
   "id": "45051292",
   "metadata": {},
   "outputs": [],
   "source": [
    "class Triangle:\n",
    "    def triangle():\n",
    "        heightForArea=int(input(\"Height:\"))\n",
    "        breadthForArea=int(input(\"Breadth:\"))\n",
    "        #Area formula: (Height*Breadth)/2\n",
    "        print(\"Area formula: (Height*Breadth)/2\")\n",
    "        print(\"Area of Triangle:\",((heightForArea*breadthForArea)/2))\n",
    "        height1ForPerimeter=int(input(\"Height1:\"))\n",
    "        height2ForPerimeter=int(input(\"Height2:\"))\n",
    "        breadthForPerimeter=int(input(\"Breadth:\"))\n",
    "        print(\"Perimeter formula: Height1+Height2+Breadth\")\n",
    "        print(\"Perimeter of Triangle:\",height1ForPerimeter+height2ForPerimeter+breadthForPerimeter)\n",
    "        "
   ]
  },
  {
   "cell_type": "code",
   "execution_count": 12,
   "id": "14ec4bd6",
   "metadata": {},
   "outputs": [
    {
     "name": "stdout",
     "output_type": "stream",
     "text": [
      "Height:32\n",
      "Breadth:34\n",
      "Area formula: (Height*Breadth)/2\n",
      "Area of Triangle: 544.0\n",
      "Height1:2\n",
      "Height2:4\n",
      "Breadth:4\n",
      "Perimeter formula: Height1+Height2+Breadth\n",
      "Perimeter of Triangle: 10\n"
     ]
    }
   ],
   "source": [
    "Triangle.triangle()"
   ]
  },
  {
   "cell_type": "code",
   "execution_count": null,
   "id": "63884af5",
   "metadata": {},
   "outputs": [],
   "source": []
  }
 ],
 "metadata": {
  "kernelspec": {
   "display_name": "Python 3 (ipykernel)",
   "language": "python",
   "name": "python3"
  },
  "language_info": {
   "codemirror_mode": {
    "name": "ipython",
    "version": 3
   },
   "file_extension": ".py",
   "mimetype": "text/x-python",
   "name": "python",
   "nbconvert_exporter": "python",
   "pygments_lexer": "ipython3",
   "version": "3.11.5"
  }
 },
 "nbformat": 4,
 "nbformat_minor": 5
}
